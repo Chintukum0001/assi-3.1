{
 "cells": [
  {
   "cell_type": "code",
   "execution_count": 1,
   "id": "2680ee44",
   "metadata": {},
   "outputs": [],
   "source": [
    "#Write a Python function to sum all the numbers in a list.\n",
    "#Sample List : (8, 2, 3, 0, 7)\n",
    "\n",
    "def List(*kkr):    \n",
    "\n",
    "    sum=0\n",
    "    for i in kkr:\n",
    "        \n",
    "        sum=sum+i\n",
    "    \n",
    "    \n",
    "    print(sum) \n",
    "    "
   ]
  },
  {
   "cell_type": "code",
   "execution_count": 2,
   "id": "40b6ff51",
   "metadata": {},
   "outputs": [
    {
     "name": "stdout",
     "output_type": "stream",
     "text": [
      "20\n"
     ]
    }
   ],
   "source": [
    "List(8,2,3,0,7)"
   ]
  },
  {
   "cell_type": "code",
   "execution_count": 3,
   "id": "f7819b63",
   "metadata": {},
   "outputs": [],
   "source": [
    "a =[8,2,3,0,7]\n",
    "def List(a):\n",
    "    sum=0\n",
    "    \n",
    "    for i in a:\n",
    "        sum=sum+i\n",
    "        \n",
    "        \n",
    "    print(sum)\n",
    "    "
   ]
  },
  {
   "cell_type": "code",
   "execution_count": 4,
   "id": "dcedecc1",
   "metadata": {},
   "outputs": [
    {
     "name": "stdout",
     "output_type": "stream",
     "text": [
      "20\n"
     ]
    }
   ],
   "source": [
    "List(a)"
   ]
  },
  {
   "cell_type": "code",
   "execution_count": null,
   "id": "533551b8",
   "metadata": {},
   "outputs": [],
   "source": []
  }
 ],
 "metadata": {
  "kernelspec": {
   "display_name": "Python 3 (ipykernel)",
   "language": "python",
   "name": "python3"
  },
  "language_info": {
   "codemirror_mode": {
    "name": "ipython",
    "version": 3
   },
   "file_extension": ".py",
   "mimetype": "text/x-python",
   "name": "python",
   "nbconvert_exporter": "python",
   "pygments_lexer": "ipython3",
   "version": "3.10.2"
  }
 },
 "nbformat": 4,
 "nbformat_minor": 5
}
